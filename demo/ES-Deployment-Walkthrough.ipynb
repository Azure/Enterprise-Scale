{
 "cells": [
  {
   "cell_type": "markdown",
   "metadata": {},
   "source": [
    "# Welcome to Enterprise-Scale!"
   ]
  },
  {
   "cell_type": "markdown",
   "metadata": {},
   "source": [
    "## Verify Pre-req"
   ]
  },
  {
   "cell_type": "markdown",
   "metadata": {},
   "source": [
    "Powershell Version > 7.0"
   ]
  },
  {
   "cell_type": "code",
   "execution_count": null,
   "metadata": {},
   "outputs": [],
   "source": [
    "$psversiontable"
   ]
  },
  {
   "cell_type": "markdown",
   "metadata": {},
   "source": [
    "Git Version > 2.24"
   ]
  },
  {
   "cell_type": "code",
   "execution_count": null,
   "metadata": {},
   "outputs": [],
   "source": [
    "git --version"
   ]
  },
  {
   "cell_type": "markdown",
   "metadata": {},
   "source": [
    "## Login to Azure"
   ]
  },
  {
   "cell_type": "markdown",
   "metadata": {},
   "source": [
    "Clear Azure Context"
   ]
  },
  {
   "cell_type": "code",
   "execution_count": null,
   "metadata": {},
   "outputs": [],
   "source": [
    "Clear-AzContext -Force"
   ]
  },
  {
   "cell_type": "markdown",
   "metadata": {},
   "source": [
    "Login to Azure with SPN or User Account that has permission at '/' scope"
   ]
  },
  {
   "cell_type": "code",
   "execution_count": null,
   "metadata": {},
   "outputs": [],
   "source": [
    "$user = \"\"\n",
    "$password = \"\"\n",
    "$tenantid = \"\"\n",
    "$secureStringPwd = $password | ConvertTo-SecureString -AsPlainText -Force\n",
    "$cred = New-Object System.Management.Automation.PSCredential -ArgumentList $user, $secureStringPwd\n",
    "Connect-AzAccount -TenantId $tenantid  -ServicePrincipal -Credential $cred \n"
   ]
  },
  {
   "cell_type": "markdown",
   "metadata": {},
   "source": [
    "Verify SPN/user account  is logged in for the Tenant"
   ]
  },
  {
   "cell_type": "code",
   "execution_count": null,
   "metadata": {},
   "outputs": [],
   "source": [
    "get-azcontext | fl"
   ]
  },
  {
   "cell_type": "markdown",
   "metadata": {},
   "source": [
    "## Bootstrap new Tenant\n"
   ]
  },
  {
   "cell_type": "markdown",
   "metadata": {},
   "source": [
    "Set GitHub token to access raw content"
   ]
  },
  {
   "cell_type": "code",
   "execution_count": null,
   "metadata": {},
   "outputs": [],
   "source": [
    "$GitHubToken = 'AD4QREEEQ7XNHXIAN4IHMSK62YTRG'\n",
    "Write-Output $GitHubToken"
   ]
  },
  {
   "cell_type": "markdown",
   "metadata": {},
   "source": [
    "View Template File"
   ]
  },
  {
   "cell_type": "code",
   "execution_count": null,
   "metadata": {
    "scrolled": false
   },
   "outputs": [],
   "source": [
    "echo \"https://raw.githubusercontent.com/Azure/CET-NorthStar/master/examples/Enterprise-Scale-Template-Deployment.json?token=$GitHubToken\""
   ]
  },
  {
   "cell_type": "code",
   "execution_count": null,
   "metadata": {},
   "outputs": [],
   "source": [
    "(Invoke-WebRequest -Uri \"https://raw.githubusercontent.com/Azure/CET-NorthStar/master/examples/Enterprise-Scale-Template-Deployment.json?token=$GitHubToken\").Content | ConvertFrom-Json"
   ]
  },
  {
   "cell_type": "markdown",
   "metadata": {},
   "source": [
    "Set Management Group Prefix"
   ]
  },
  {
   "cell_type": "code",
   "execution_count": null,
   "metadata": {},
   "outputs": [],
   "source": [
    "$TopLevelManagementGroupPrefix = 'ES'\n",
    "$TemplateParameterObject = @{'TopLevelManagementGroupPrefix'='ES'}"
   ]
  },
  {
   "cell_type": "markdown",
   "metadata": {},
   "source": [
    "Initialize Tenant Deployment Parameter "
   ]
  },
  {
   "cell_type": "code",
   "execution_count": null,
   "metadata": {},
   "outputs": [],
   "source": [
    "\n",
    "$parameters = @{\n",
    "    'Name'                    = 'Enterprise-Scale-Template'\n",
    "    'Location'                = 'North Europe'\n",
    "    'TemplateUri'             = \"https://raw.githubusercontent.com/Azure/CET-NorthStar/master/examples/Enterprise-Scale-Template-Deployment.json?token=$GitHubToken\"\n",
    "    'TemplateParameterObject' = $TemplateParameterObject\n",
    "    'Verbose'                 = $true\n",
    "}\n"
   ]
  },
  {
   "cell_type": "markdown",
   "metadata": {},
   "source": [
    "Invoke Tenant Level Deployment"
   ]
  },
  {
   "cell_type": "code",
   "execution_count": null,
   "metadata": {},
   "outputs": [],
   "source": [
    "New-AzTenantDeployment @parameters"
   ]
  },
  {
   "cell_type": "markdown",
   "metadata": {},
   "source": [
    "View Tenant Level Deployment"
   ]
  },
  {
   "cell_type": "code",
   "execution_count": null,
   "metadata": {},
   "outputs": [],
   "source": [
    "Get-AzTenantDeployment | select DeploymentName, ProvisioningState, Timestamp,location |sort-object Timestamp -Descending"
   ]
  },
  {
   "cell_type": "markdown",
   "metadata": {},
   "source": [
    "View Management Group Level Deployment"
   ]
  },
  {
   "cell_type": "code",
   "execution_count": null,
   "metadata": {},
   "outputs": [],
   "source": [
    "Get-AzManagementGroupDeployment -ManagementGroupId $TopLevelManagementGroupPrefix | select DeploymentName, ProvisioningState, Timestamp |sort-object Timestamp -Descending"
   ]
  },
  {
   "cell_type": "markdown",
   "metadata": {},
   "source": [
    "## Setting up Git"
   ]
  },
  {
   "cell_type": "markdown",
   "metadata": {},
   "source": [
    "Ephermal space for Git"
   ]
  },
  {
   "cell_type": "code",
   "execution_count": null,
   "metadata": {},
   "outputs": [],
   "source": [
    "jupyter --runtime-dir"
   ]
  },
  {
   "cell_type": "markdown",
   "metadata": {},
   "source": [
    "Git Clone Your repo (Skip this step if you have already cloned).\n",
    "\n",
    "Please Ensure your Git Credentails are available for PowerShell to use in your session."
   ]
  },
  {
   "cell_type": "code",
   "execution_count": null,
   "metadata": {},
   "outputs": [],
   "source": [
    "git clone https://github.com/uday31in/NorthStar.git"
   ]
  },
  {
   "cell_type": "markdown",
   "metadata": {},
   "source": [
    "Change Path to Git Root"
   ]
  },
  {
   "cell_type": "code",
   "execution_count": null,
   "metadata": {},
   "outputs": [],
   "source": [
    "Write-Host \"Changing Current Directory to: $(jupyter --runtime-dir)\\NorthStar\"\n",
    "cd \"$(jupyter --runtime-dir)\\NorthStar\""
   ]
  },
  {
   "cell_type": "markdown",
   "metadata": {},
   "source": [
    "Add upstream repo"
   ]
  },
  {
   "cell_type": "code",
   "execution_count": null,
   "metadata": {},
   "outputs": [],
   "source": [
    "git remote add upstream https://github.com/Azure/CET-NorthStar.git"
   ]
  },
  {
   "cell_type": "markdown",
   "metadata": {},
   "source": [
    "Verify Remote"
   ]
  },
  {
   "cell_type": "code",
   "execution_count": null,
   "metadata": {},
   "outputs": [],
   "source": [
    "git remote -v "
   ]
  },
  {
   "cell_type": "markdown",
   "metadata": {},
   "source": [
    "Pull latest upstream/master in your local master branch"
   ]
  },
  {
   "cell_type": "code",
   "execution_count": null,
   "metadata": {},
   "outputs": [],
   "source": [
    "git pull upstream master -X theirs -f"
   ]
  },
  {
   "cell_type": "markdown",
   "metadata": {},
   "source": [
    "## Initialize Enviornment"
   ]
  },
  {
   "cell_type": "markdown",
   "metadata": {},
   "source": [
    "Ensure Current Path is set to Git Root of your repo"
   ]
  },
  {
   "cell_type": "code",
   "execution_count": null,
   "metadata": {},
   "outputs": [],
   "source": [
    "Write-Host \"Changing Current Directory to: $(jupyter --runtime-dir)\\NorthStar\"\n",
    "cd \"$(jupyter --runtime-dir)\\NorthStar\""
   ]
  },
  {
   "cell_type": "markdown",
   "metadata": {},
   "source": [
    "Ensure Azure Login"
   ]
  },
  {
   "cell_type": "code",
   "execution_count": null,
   "metadata": {},
   "outputs": [],
   "source": [
    "Get-AzContext | fl"
   ]
  },
  {
   "cell_type": "markdown",
   "metadata": {},
   "source": [
    "Import PowerShell Module"
   ]
  },
  {
   "cell_type": "code",
   "execution_count": null,
   "metadata": {},
   "outputs": [],
   "source": [
    "Import-Module .\\src\\AzOps.psd1 -force\n",
    "Get-ChildItem -Path .\\src -Include *.ps1 -Recurse | ForEach-Object { .$_.FullName }"
   ]
  },
  {
   "cell_type": "markdown",
   "metadata": {},
   "source": [
    "Intialize Git Repo for your Azure Enviornement.\n",
    "\n",
    "Please Note: This will take few minutes to compelte depending size of an enviornment"
   ]
  },
  {
   "cell_type": "code",
   "execution_count": null,
   "metadata": {},
   "outputs": [],
   "source": [
    "Initialize-AzOpsRepository -Verbose -SkipResourceGroup"
   ]
  },
  {
   "cell_type": "markdown",
   "metadata": {},
   "source": [
    "Commit Change to Feaure Branch \"initial-discovery\""
   ]
  },
  {
   "cell_type": "code",
   "execution_count": null,
   "metadata": {},
   "outputs": [],
   "source": [
    "git checkout -b initial-discovery"
   ]
  },
  {
   "cell_type": "markdown",
   "metadata": {},
   "source": [
    "Commit Changes to AzOps"
   ]
  },
  {
   "cell_type": "code",
   "execution_count": null,
   "metadata": {},
   "outputs": [],
   "source": [
    "git add .\\azops"
   ]
  },
  {
   "cell_type": "markdown",
   "metadata": {},
   "source": [
    "View Git Status"
   ]
  },
  {
   "cell_type": "code",
   "execution_count": null,
   "metadata": {},
   "outputs": [],
   "source": [
    "git status"
   ]
  },
  {
   "cell_type": "markdown",
   "metadata": {},
   "source": [
    "Git commit"
   ]
  },
  {
   "cell_type": "code",
   "execution_count": null,
   "metadata": {},
   "outputs": [],
   "source": [
    "git commit -m \"Initializing Azure Enviornment\""
   ]
  },
  {
   "cell_type": "markdown",
   "metadata": {},
   "source": [
    "Push your changes to your Git repo"
   ]
  },
  {
   "cell_type": "code",
   "execution_count": null,
   "metadata": {},
   "outputs": [],
   "source": [
    "git push origin initial-discovery"
   ]
  },
  {
   "cell_type": "markdown",
   "metadata": {},
   "source": [
    "Submit PR in Git Portal and merge to master before proceeding to next step"
   ]
  },
  {
   "cell_type": "code",
   "execution_count": null,
   "metadata": {},
   "outputs": [],
   "source": [
    "git remote get-url --all origin"
   ]
  },
  {
   "cell_type": "markdown",
   "metadata": {},
   "source": [
    "## Enable Git Action"
   ]
  },
  {
   "cell_type": "markdown",
   "metadata": {},
   "source": [
    "Ensure Current Path is set to Git Root of your repo"
   ]
  },
  {
   "cell_type": "code",
   "execution_count": null,
   "metadata": {},
   "outputs": [],
   "source": [
    "Write-Host \"Changing Current Directory to: $(jupyter --runtime-dir)\\NorthStar\"\n",
    "cd \"$(jupyter --runtime-dir)\\NorthStar\""
   ]
  },
  {
   "cell_type": "markdown",
   "metadata": {},
   "source": [
    "Commit Change to Feaure Branch \"initial-discovery\""
   ]
  },
  {
   "cell_type": "code",
   "execution_count": null,
   "metadata": {},
   "outputs": [],
   "source": [
    "git checkout -b enable-git-action"
   ]
  },
  {
   "cell_type": "markdown",
   "metadata": {},
   "source": [
    "Enable Action by copying \".github\\workflows\\azops-pull.yml.disabled\" to \".github\\workflows\\azops-pull.yml\""
   ]
  },
  {
   "cell_type": "code",
   "execution_count": null,
   "metadata": {},
   "outputs": [],
   "source": [
    "copy \"$(jupyter --runtime-dir)\\NorthStar\\.github\\workflows\\azops-push.yml.disabled\" \"$(jupyter --runtime-dir)\\NorthStar\\.github\\workflows\\azops-push.yml\""
   ]
  },
  {
   "cell_type": "markdown",
   "metadata": {},
   "source": [
    "Add File to Git"
   ]
  },
  {
   "cell_type": "code",
   "execution_count": null,
   "metadata": {},
   "outputs": [],
   "source": [
    "git add .github\\workflows\\azops-push.yml"
   ]
  },
  {
   "cell_type": "markdown",
   "metadata": {},
   "source": [
    "View Git Status"
   ]
  },
  {
   "cell_type": "code",
   "execution_count": null,
   "metadata": {},
   "outputs": [],
   "source": [
    "git status"
   ]
  },
  {
   "cell_type": "markdown",
   "metadata": {},
   "source": [
    "Git commit"
   ]
  },
  {
   "cell_type": "code",
   "execution_count": null,
   "metadata": {},
   "outputs": [],
   "source": [
    "git commit -m \"Enable Git Action\""
   ]
  },
  {
   "cell_type": "markdown",
   "metadata": {},
   "source": [
    "Push your changes to your Git repo"
   ]
  },
  {
   "cell_type": "code",
   "execution_count": null,
   "metadata": {},
   "outputs": [],
   "source": [
    "git push origin enable-git-action"
   ]
  },
  {
   "cell_type": "markdown",
   "metadata": {},
   "source": [
    "Submit PR in Git Portal and merge to master"
   ]
  },
  {
   "cell_type": "code",
   "execution_count": null,
   "metadata": {},
   "outputs": [],
   "source": [
    "git remote get-url --all origin"
   ]
  },
  {
   "cell_type": "markdown",
   "metadata": {},
   "source": [
    "## Deploying New Policy Assignment using pipeline"
   ]
  },
  {
   "cell_type": "markdown",
   "metadata": {},
   "source": [
    "Ensure Current Path is set to Git Root of your repo"
   ]
  },
  {
   "cell_type": "code",
   "execution_count": null,
   "metadata": {},
   "outputs": [],
   "source": [
    "Write-Host \"Changing Current Directory to: $(jupyter --runtime-dir)\\NorthStar\"\n",
    "cd \"$(jupyter --runtime-dir)\\NorthStar\""
   ]
  },
  {
   "cell_type": "markdown",
   "metadata": {},
   "source": [
    "Create Branch deploy-loganalytics"
   ]
  },
  {
   "cell_type": "code",
   "execution_count": null,
   "metadata": {},
   "outputs": [],
   "source": [
    "git checkout -b deploy-loganalytics"
   ]
  },
  {
   "cell_type": "markdown",
   "metadata": {},
   "source": [
    "View Policy Assignment"
   ]
  },
  {
   "cell_type": "code",
   "execution_count": null,
   "metadata": {},
   "outputs": [],
   "source": [
    "echo 'https://github.com/Azure/CET-NorthStar/raw/master/azopsreference/3fc1081d-6105-4e19-b60c-1ec1252cf560/contoso/platform/management/.AzState/Microsoft.Authorization_policyAssignments-Deploy-Log-Analytics.parameters.json'"
   ]
  },
  {
   "cell_type": "markdown",
   "metadata": {},
   "source": [
    "Create Policy Assignment Parameter file"
   ]
  },
  {
   "cell_type": "code",
   "execution_count": null,
   "metadata": {},
   "outputs": [],
   "source": [
    "@\"\n",
    "{\n",
    "  \"`$schema\": \"http://schema.management.azure.com/schemas/2015-01-01/deploymentParameters.json#\",\n",
    "  \"contentVersion\": \"1.0.0.0\",\n",
    "  \"parameters\": {\n",
    "    \"input\": {\n",
    "      \"value\": {\n",
    "        \"Name\": \"Deploy-Log-Analytics\",\n",
    "        \"ResourceType\": \"Microsoft.Authorization/policyAssignments\",\n",
    "        \"Location\": \"northeurope\",        \n",
    "        \"Identity\": {\n",
    "          \"type\": \"SystemAssigned\"\n",
    "        },\n",
    "        \"Properties\": {\n",
    "          \"displayName\": \"Deploy-LogAnalytics\",\n",
    "          \"policyDefinitionId\": \"/providers/Microsoft.Management/managementGroups/$($TopLevelManagementGroupPrefix)/providers/Microsoft.Authorization/policyDefinitions/Deploy-Log-Analytics\",\n",
    "          \"scope\": \"/providers/Microsoft.Management/managementGroups/$($TopLevelManagementGroupPrefix)-management\",\n",
    "          \"notScopes\": [],\n",
    "          \"parameters\": {\n",
    "            \"workspaceName\": {\n",
    "              \"value\": \"$($TopLevelManagementGroupPrefix)-weu-la\"\n",
    "            },\n",
    "            \"automationAccountName\": {\n",
    "              \"value\": \"$($TopLevelManagementGroupPrefix)-weu-aa\"\n",
    "            },\n",
    "            \"workspaceRegion\": {\n",
    "              \"value\": \"westeurope\"\n",
    "            },\n",
    "            \"automationRegion\": {\n",
    "              \"value\": \"westeurope\"\n",
    "            },\n",
    "            \"rgName\": {\n",
    "              \"value\": \"$($TopLevelManagementGroupPrefix)-weu-mgmt\"\n",
    "            }\n",
    "          },\n",
    "          \"enforcementMode\": \"Default\"\n",
    "        }\n",
    "      }\n",
    "    }\n",
    "  }\n",
    "}\n",
    "\"@  > \".\\azops\\Tenant Root Group\\ES\\ES-platform\\ES-management\\.AzState\\Microsoft.Authorization_policyAssignments-Deploy-Log-Analytics.parameters.json\""
   ]
  },
  {
   "cell_type": "markdown",
   "metadata": {},
   "source": [
    "Add File to Git"
   ]
  },
  {
   "cell_type": "code",
   "execution_count": null,
   "metadata": {},
   "outputs": [],
   "source": [
    "git add \".\\azops\\Tenant Root Group\\ES\\ES-platform\\ES-management\\.AzState\\Microsoft.Authorization_policyAssignments-Deploy-Log-Analytics.parameters.json\""
   ]
  },
  {
   "cell_type": "markdown",
   "metadata": {},
   "source": [
    "View Git Status"
   ]
  },
  {
   "cell_type": "code",
   "execution_count": null,
   "metadata": {},
   "outputs": [],
   "source": [
    "git status"
   ]
  },
  {
   "cell_type": "markdown",
   "metadata": {},
   "source": [
    "Git commit"
   ]
  },
  {
   "cell_type": "code",
   "execution_count": null,
   "metadata": {},
   "outputs": [],
   "source": [
    "git commit -m \"Deploy Log Analytics Policy\""
   ]
  },
  {
   "cell_type": "markdown",
   "metadata": {},
   "source": [
    "Push your changes to your Git repo"
   ]
  },
  {
   "cell_type": "code",
   "execution_count": null,
   "metadata": {},
   "outputs": [],
   "source": [
    "git push origin deploy-loganalytics"
   ]
  },
  {
   "cell_type": "markdown",
   "metadata": {},
   "source": [
    "Submit PR in Git Portal and wait for GitHub to action to complete.\n",
    "\n",
    "DO NOT merge, Pull request to master branch before GitHub actions complete."
   ]
  },
  {
   "cell_type": "markdown",
   "metadata": {},
   "source": [
    "Go To Portal and verify Policy Assigment is created."
   ]
  },
  {
   "cell_type": "markdown",
   "metadata": {},
   "source": [
    "Pull Master barnach locally"
   ]
  },
  {
   "cell_type": "code",
   "execution_count": null,
   "metadata": {},
   "outputs": [],
   "source": [
    "git checkout master && git pull"
   ]
  },
  {
   "cell_type": "markdown",
   "metadata": {},
   "source": [
    "## Demo Drift Detection"
   ]
  },
  {
   "cell_type": "markdown",
   "metadata": {},
   "source": [
    "<Manual> User Portal to make changes e.g. Add new management Group or update exisitng policy definition or assignment. \n",
    "    \n",
    "To simulate OOB changes, we are making imperative change via PowerShell."
   ]
  },
  {
   "cell_type": "code",
   "execution_count": null,
   "metadata": {},
   "outputs": [],
   "source": [
    "$GroupName = \"$TopLevelManagementGroupPrefix-IAB\"\n",
    "$ParentId  = \"/providers/Microsoft.Management/managementGroups/$TopLevelManagementGroupPrefix\"\n",
    "\n",
    "New-AzManagementGroup -GroupName $GroupName -DisplayName $GroupName -ParentId $ParentId"
   ]
  },
  {
   "cell_type": "markdown",
   "metadata": {},
   "source": [
    "Create Branch deploy-vWan"
   ]
  },
  {
   "cell_type": "code",
   "execution_count": null,
   "metadata": {},
   "outputs": [],
   "source": [
    "git checkout -b deploy-vWan"
   ]
  },
  {
   "cell_type": "markdown",
   "metadata": {},
   "source": [
    "View Policy Assignment"
   ]
  },
  {
   "cell_type": "code",
   "execution_count": null,
   "metadata": {},
   "outputs": [],
   "source": [
    "echo 'https://github.com/Azure/CET-NorthStar/blob/master/azopsreference/3fc1081d-6105-4e19-b60c-1ec1252cf560/contoso/platform/connectivity/.AzState/Microsoft.Authorization_policyAssignments-Deploy-vWAN.parameters.json'"
   ]
  },
  {
   "cell_type": "markdown",
   "metadata": {},
   "source": [
    "Create Policy Assignment Parameter file"
   ]
  },
  {
   "cell_type": "code",
   "execution_count": null,
   "metadata": {},
   "outputs": [],
   "source": [
    "@\"\n",
    "{\n",
    "  \"`$schema\": \"http://schema.management.azure.com/schemas/2015-01-01/deploymentParameters.json#\",\n",
    "  \"contentVersion\": \"1.0.0.0\",\n",
    "  \"parameters\": {\n",
    "    \"input\": {\n",
    "      \"value\": {\n",
    "        \"Name\": \"Deploy-VWAN\",\n",
    "        \"ResourceType\": \"Microsoft.Authorization/policyAssignments\",\n",
    "        \"Location\": \"northeurope\",        \n",
    "        \"Identity\": {\n",
    "          \"type\": \"SystemAssigned\"\n",
    "        },\n",
    "        \"Properties\": {\n",
    "          \"displayName\": \"Deploy-vWAN\",\n",
    "          \"policyDefinitionId\": \"/providers/Microsoft.Management/managementGroups/$($TopLevelManagementGroupPrefix)/providers/Microsoft.Authorization/policyDefinitions/Deploy-vWAN\",\n",
    "          \"scope\": \"/providers/Microsoft.Management/managementGroups/$($TopLevelManagementGroupPrefix)-connectivity\",\n",
    "          \"notScopes\": [],\n",
    "          \"parameters\": {\n",
    "            \"vwanname\": {\n",
    "              \"value\": \"$($TopLevelManagementGroupPrefix)-vwan\"\n",
    "            },\n",
    "            \"vwanRegion\": {\n",
    "              \"value\": \"northeurope\"\n",
    "            },\n",
    "            \"rgName\": {\n",
    "              \"value\": \"$($TopLevelManagementGroupPrefix)-global-vwan\"\n",
    "            }\n",
    "          },\n",
    "          \"description\": \"\",\n",
    "          \"enforcementMode\": \"Default\"\n",
    "        }\n",
    "      }\n",
    "    }\n",
    "  }\n",
    "}\n",
    "\"@  > \".\\azops\\Tenant Root Group\\ES\\ES-platform\\ES-connectivity\\.AzState\\Microsoft.Authorization_policyAssignments-Deploy-vWAN.parameters.json\""
   ]
  },
  {
   "cell_type": "markdown",
   "metadata": {},
   "source": [
    "Add File to Git"
   ]
  },
  {
   "cell_type": "code",
   "execution_count": null,
   "metadata": {},
   "outputs": [],
   "source": [
    "git add \".\\azops\\Tenant Root Group\\ES\\ES-platform\\ES-connectivity\\.AzState\\Microsoft.Authorization_policyAssignments-Deploy-vWAN.parameters.json\""
   ]
  },
  {
   "cell_type": "markdown",
   "metadata": {},
   "source": [
    "View Git Status"
   ]
  },
  {
   "cell_type": "code",
   "execution_count": null,
   "metadata": {},
   "outputs": [],
   "source": [
    "git status"
   ]
  },
  {
   "cell_type": "markdown",
   "metadata": {},
   "source": [
    "Git commit"
   ]
  },
  {
   "cell_type": "code",
   "execution_count": null,
   "metadata": {},
   "outputs": [],
   "source": [
    "git commit -m \"Deploy vWAN Policy\""
   ]
  },
  {
   "cell_type": "markdown",
   "metadata": {},
   "source": [
    "Push your changes to your Git repo"
   ]
  },
  {
   "cell_type": "code",
   "execution_count": null,
   "metadata": {},
   "outputs": [],
   "source": [
    "git push origin deploy-vWan"
   ]
  },
  {
   "cell_type": "markdown",
   "metadata": {},
   "source": [
    "Submit PR in Git Portal and wait for GitHub to action to complete.\n",
    "\n",
    "DO NOT merge, Pull request to master branch before GitHub actions complete."
   ]
  },
  {
   "cell_type": "markdown",
   "metadata": {},
   "source": [
    "When Git Action runs, it should detect "
   ]
  },
  {
   "cell_type": "markdown",
   "metadata": {},
   "source": [
    "## Clean-up Previous Install"
   ]
  },
  {
   "cell_type": "markdown",
   "metadata": {},
   "source": [
    "Import-Module"
   ]
  },
  {
   "cell_type": "code",
   "execution_count": null,
   "metadata": {},
   "outputs": [],
   "source": [
    "Import-Module .\\src\\AzOps.psd1 -force\n",
    "Get-ChildItem -Path .\\src -Include *.ps1 -Recurse | ForEach-Object { .$_.FullName }"
   ]
  },
  {
   "cell_type": "markdown",
   "metadata": {},
   "source": [
    "Management Group To Clean-up"
   ]
  },
  {
   "cell_type": "code",
   "execution_count": null,
   "metadata": {},
   "outputs": [],
   "source": [
    "$ManagementGroupPrefix = \"ES\""
   ]
  },
  {
   "cell_type": "markdown",
   "metadata": {},
   "source": [
    "Clean-up Management Group"
   ]
  },
  {
   "cell_type": "code",
   "execution_count": null,
   "metadata": {},
   "outputs": [],
   "source": [
    "if (Get-AzManagementGroup -GroupName $ManagementGroupPrefix -ErrorAction SilentlyContinue) {\n",
    "    Write-Verbose \"Cleaning up Tailspin Management Group\"\n",
    "    Remove-AzOpsManagementGroup -groupName  $ManagementGroupPrefix -Verbose\n",
    "}"
   ]
  },
  {
   "cell_type": "markdown",
   "metadata": {},
   "source": [
    "Clean-up Tenant Deployment"
   ]
  },
  {
   "cell_type": "markdown",
   "metadata": {},
   "source": [
    "If you see an error \"Your Azure credentials have not been set up or have expired\", please re-run command. It might take several retries."
   ]
  },
  {
   "cell_type": "code",
   "execution_count": null,
   "metadata": {},
   "outputs": [],
   "source": [
    "#Clean up Tenant Level Deployments\n",
    "Get-AzTenantDeployment | Foreach-Object -Parallel { Remove-AzTenantDeployment -Name $_.DeploymentName -Confirm:$false}\n"
   ]
  },
  {
   "cell_type": "markdown",
   "metadata": {},
   "source": [
    "Delete initial-discovery remote branch"
   ]
  },
  {
   "cell_type": "code",
   "execution_count": null,
   "metadata": {},
   "outputs": [],
   "source": [
    "git branch -D initial-discovery"
   ]
  },
  {
   "cell_type": "code",
   "execution_count": null,
   "metadata": {
    "scrolled": true
   },
   "outputs": [],
   "source": [
    "git push origin --delete initial-discovery"
   ]
  },
  {
   "cell_type": "markdown",
   "metadata": {},
   "source": [
    "Delete enable-git-action remote branch"
   ]
  },
  {
   "cell_type": "code",
   "execution_count": null,
   "metadata": {},
   "outputs": [],
   "source": [
    "git branch -D enable-git-action"
   ]
  },
  {
   "cell_type": "code",
   "execution_count": null,
   "metadata": {},
   "outputs": [],
   "source": [
    "git push origin --delete enable-git-action"
   ]
  },
  {
   "cell_type": "markdown",
   "metadata": {},
   "source": [
    "Delete deploy-loganalytics remote branch"
   ]
  },
  {
   "cell_type": "code",
   "execution_count": null,
   "metadata": {},
   "outputs": [],
   "source": [
    "git branch -D deploy-loganalytics"
   ]
  },
  {
   "cell_type": "code",
   "execution_count": null,
   "metadata": {},
   "outputs": [],
   "source": [
    "git push origin --delete deploy-loganalytics"
   ]
  },
  {
   "cell_type": "markdown",
   "metadata": {},
   "source": [
    "Delete deploy-loganalytics remote branch"
   ]
  },
  {
   "cell_type": "code",
   "execution_count": null,
   "metadata": {},
   "outputs": [],
   "source": [
    "git branch -D deploy-vWAN"
   ]
  },
  {
   "cell_type": "code",
   "execution_count": null,
   "metadata": {},
   "outputs": [],
   "source": [
    "git push origin --delete deploy-vWAN"
   ]
  },
  {
   "cell_type": "markdown",
   "metadata": {},
   "source": [
    "Reset upstream master branch"
   ]
  },
  {
   "cell_type": "code",
   "execution_count": null,
   "metadata": {},
   "outputs": [],
   "source": [
    "git checkout master -f "
   ]
  },
  {
   "cell_type": "code",
   "execution_count": null,
   "metadata": {},
   "outputs": [],
   "source": [
    "git pull upstream master\n",
    "git reset --hard upstream/master"
   ]
  },
  {
   "cell_type": "code",
   "execution_count": null,
   "metadata": {},
   "outputs": [],
   "source": [
    "git push -f"
   ]
  },
  {
   "cell_type": "markdown",
   "metadata": {},
   "source": [
    "Remove Local Git Folder"
   ]
  },
  {
   "cell_type": "code",
   "execution_count": null,
   "metadata": {},
   "outputs": [],
   "source": [
    "rm -recurse -force \"$(jupyter --runtime-dir)\\NorthStar\""
   ]
  }
 ],
 "metadata": {
  "kernelspec": {
   "display_name": ".NET (PowerShell)",
   "language": "PowerShell",
   "name": ".net-powershell"
  },
  "language_info": {
   "file_extension": ".ps1",
   "mimetype": "text/x-powershell",
   "name": "PowerShell",
   "pygments_lexer": "powershell",
   "version": "7.0"
  }
 },
 "nbformat": 4,
 "nbformat_minor": 4
}
